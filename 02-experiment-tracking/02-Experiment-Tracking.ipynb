{
 "cells": [
  {
   "cell_type": "markdown",
   "id": "b0a75423-fcf0-4c43-987c-dbd101d809ba",
   "metadata": {},
   "source": [
    "<h2>1. Install MLflow.</h2>"
   ]
  },
  {
   "cell_type": "code",
   "execution_count": 1,
   "id": "a180638d-2564-4e88-8ef0-73b111116410",
   "metadata": {},
   "outputs": [
    {
     "name": "stdout",
     "output_type": "stream",
     "text": [
      "mlflow, version 2.13.0\n"
     ]
    }
   ],
   "source": [
    "!mlflow --version"
   ]
  },
  {
   "cell_type": "markdown",
   "id": "61101c49-e2b5-4c58-a4be-2445ef5f4631",
   "metadata": {},
   "source": [
    "<h3>Answer: mlflow, version 2.13.0.</h3>"
   ]
  },
  {
   "cell_type": "markdown",
   "id": "ff063193-e87e-4428-afef-53a2c0edc7ae",
   "metadata": {},
   "source": [
    "<h2>2. Download and preprocess the data.</h2>"
   ]
  },
  {
   "cell_type": "code",
   "execution_count": 2,
   "id": "44fdc488-83ec-4a70-9eff-ccaae4f38e16",
   "metadata": {},
   "outputs": [],
   "source": [
    "!python ./scripts/preprocess_data.py --raw_data_path ./taxi_data --dest_path ./output"
   ]
  },
  {
   "cell_type": "code",
   "execution_count": 3,
   "id": "eccb2739-ba01-4c2e-9c98-96a06cc28cf3",
   "metadata": {},
   "outputs": [
    {
     "name": "stdout",
     "output_type": "stream",
     "text": [
      ".  ..  dv.pkl  test.pkl  train.pkl  val.pkl\n"
     ]
    }
   ],
   "source": [
    "!ls -a ./output"
   ]
  },
  {
   "cell_type": "markdown",
   "id": "862277be-2bb3-479a-8a8b-6197673f8957",
   "metadata": {},
   "source": [
    "<h3>Answer: 4.</h3>"
   ]
  },
  {
   "cell_type": "markdown",
   "id": "4722b854-9b15-4a9c-951f-33acd206fb17",
   "metadata": {},
   "source": [
    "<h2>3. Train a model with autolog.</h2>"
   ]
  },
  {
   "cell_type": "code",
   "execution_count": 4,
   "id": "efdab417-79f5-4b87-a294-93a91d32d2df",
   "metadata": {},
   "outputs": [
    {
     "name": "stdout",
     "output_type": "stream",
     "text": [
      "2024/05/29 18:45:21 INFO mlflow.tracking.fluent: Autologging successfully enabled for sklearn.\n",
      "2024/05/29 18:45:22 WARNING mlflow.sklearn: Failed to log training dataset information to MLflow Tracking. Reason: 'numpy.ndarray' object has no attribute 'toarray'\n",
      "2024/05/29 18:45:40 WARNING mlflow.utils.autologging_utils: MLflow autologging encountered a warning: \"/home/codespace/anaconda3/lib/python3.9/site-packages/_distutils_hack/__init__.py:30: UserWarning: Setuptools is replacing distutils.\"\n"
     ]
    }
   ],
   "source": [
    "!python ./scripts/train.py"
   ]
  },
  {
   "cell_type": "markdown",
   "id": "686ec74d-37a6-4437-90dc-bdc2f2ddda91",
   "metadata": {},
   "source": [
    "<h3>Answer: 2.</h3>"
   ]
  },
  {
   "cell_type": "markdown",
   "id": "bff9bb08-e55a-44ed-9708-8a7336e78c41",
   "metadata": {},
   "source": [
    "<h2>4. Launch the tracking server locally.</h2>"
   ]
  },
  {
   "cell_type": "code",
   "execution_count": null,
   "id": "8e3eb552-0537-4ab6-82ff-627290ea5117",
   "metadata": {},
   "outputs": [],
   "source": [
    "!mlflow ui --backend-store-uri sqlite:///mlflow.db --default-artifact-root ./artifacts"
   ]
  },
  {
   "cell_type": "markdown",
   "id": "ad050a6e-685d-4866-ae36-d3ca4831f9cd",
   "metadata": {},
   "source": [
    "<h3>Answer: default-artifact-root.</h3>"
   ]
  },
  {
   "cell_type": "markdown",
   "id": "520b1827-e013-4145-9f21-d16d8d96efe8",
   "metadata": {},
   "source": [
    "<h2>5. Tune model hyperparameters.</h2>"
   ]
  },
  {
   "cell_type": "code",
   "execution_count": 1,
   "id": "bb945011-a938-41b9-9a59-47b8df2753b2",
   "metadata": {},
   "outputs": [
    {
     "name": "stdout",
     "output_type": "stream",
     "text": [
      "2024/05/29 20:10:42 INFO mlflow.tracking.fluent: Experiment with name 'random-forest-hyperopt' does not exist. Creating a new experiment.\n",
      "100%|██████████| 15/15 [01:01<00:00,  4.09s/trial, best loss: 5.335419588556921]\n"
     ]
    }
   ],
   "source": [
    "!python ./scripts/hpo.py"
   ]
  },
  {
   "cell_type": "markdown",
   "id": "c417febd-9cac-4f45-969d-e4a95ffc680d",
   "metadata": {},
   "source": [
    "<h3>Answer: 5,335.</h3>"
   ]
  },
  {
   "cell_type": "markdown",
   "id": "2ee5acca-fdcf-4aef-82f4-4246f6cd95ee",
   "metadata": {},
   "source": [
    "<h2>6. Promote the best model to the model registry.</h2>"
   ]
  },
  {
   "cell_type": "code",
   "execution_count": 2,
   "id": "30b90c8d-9f20-4e4d-8010-28ab4ddfd3ec",
   "metadata": {},
   "outputs": [
    {
     "name": "stdout",
     "output_type": "stream",
     "text": [
      "2024/05/29 20:22:11 INFO mlflow.tracking.fluent: Experiment with name 'random-forest-best-models' does not exist. Creating a new experiment.\n",
      "2024/05/29 20:22:12 WARNING mlflow.sklearn: Failed to log training dataset information to MLflow Tracking. Reason: 'numpy.ndarray' object has no attribute 'toarray'\n",
      "2024/05/29 20:22:19 WARNING mlflow.utils.autologging_utils: MLflow autologging encountered a warning: \"/home/codespace/anaconda3/lib/python3.9/site-packages/_distutils_hack/__init__.py:30: UserWarning: Setuptools is replacing distutils.\"\n",
      "2024/05/29 20:22:24 WARNING mlflow.sklearn: Failed to log training dataset information to MLflow Tracking. Reason: 'numpy.ndarray' object has no attribute 'toarray'\n",
      "2024/05/29 20:22:45 WARNING mlflow.sklearn: Failed to log training dataset information to MLflow Tracking. Reason: 'numpy.ndarray' object has no attribute 'toarray'\n",
      "2024/05/29 20:22:59 WARNING mlflow.sklearn: Failed to log training dataset information to MLflow Tracking. Reason: 'numpy.ndarray' object has no attribute 'toarray'\n",
      "2024/05/29 20:23:08 WARNING mlflow.sklearn: Failed to log training dataset information to MLflow Tracking. Reason: 'numpy.ndarray' object has no attribute 'toarray'\n",
      "Successfully registered model 'random-forest-regressor'.\n",
      "2024/05/29 20:23:16 INFO mlflow.store.model_registry.abstract_store: Waiting up to 300 seconds for model version to finish creation. Model name: random-forest-regressor, version 1\n",
      "Created version '1' of model 'random-forest-regressor'.\n"
     ]
    }
   ],
   "source": [
    "!python ./scripts/register_model.py"
   ]
  },
  {
   "cell_type": "markdown",
   "id": "3bcf72c2-c505-481d-9b0b-c7d226ac2e91",
   "metadata": {},
   "source": [
    "<h3>Answer: 5,567.</h3>"
   ]
  }
 ],
 "metadata": {
  "kernelspec": {
   "display_name": "Python 3 (ipykernel)",
   "language": "python",
   "name": "python3"
  },
  "language_info": {
   "codemirror_mode": {
    "name": "ipython",
    "version": 3
   },
   "file_extension": ".py",
   "mimetype": "text/x-python",
   "name": "python",
   "nbconvert_exporter": "python",
   "pygments_lexer": "ipython3",
   "version": "3.9.12"
  }
 },
 "nbformat": 4,
 "nbformat_minor": 5
}
